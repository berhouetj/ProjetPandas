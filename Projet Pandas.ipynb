{
 "cells": [
  {
   "cell_type": "markdown",
   "metadata": {},
   "source": [
    "# I - Introduction"
   ]
  },
  {
   "cell_type": "markdown",
   "metadata": {},
   "source": [
    "Pandas est une bibliothèque de fonctions Python qui permet de faire des statistiques et notamment de traiter des grandes quantités de données."
   ]
  },
  {
   "cell_type": "markdown",
   "metadata": {},
   "source": [
    "## I- 1) Installation de la bibliothèque Pandas\n",
    "\n",
    "La bibliothèque Pandas n'est pas installée par défaut sur EduPython. Pour l'installer, il faut suivre la procédure suivante:\n",
    "1. Aller dans le menu *Outils/Outils* et choisir *Installation d'un nouveau module*\n",
    "     * Pour le choix de la méthode d'installation: taper 1 (conda)\n",
    "     * Pour le choix du module : saisir `pandas` puis valider\n",
    "     ![image](InstallationModule2.png \"Installation du module Pandas\")  \n",
    "2. Une fois l'installation terminée, saisir `import pandas` dans la console EduPython et s'assurer qu'aucune erreur n'apparait\n"
   ]
  },
  {
   "cell_type": "markdown",
   "metadata": {},
   "source": [
    "## I - 2) Premiers exemples\n",
    "\n",
    "La bibliothèque permet de manipuler deux types d'objets: \n",
    "* des 'Series': colonnes de données;\n",
    "* des 'DataFrame': tableaux de données dans lesquels les colonnes sont éventuellement étiquetées\n",
    "\n",
    "### I - 2) a. Exemple d'objet Series:\n"
   ]
  },
  {
   "cell_type": "markdown",
   "metadata": {},
   "source": [
    "Pour indiquer à Python que vous souhaitez utiliser les fonctions de la bibliothèque `pandas` vous devez au préalable saisir dans la console la commande `import pandas`."
   ]
  },
  {
   "cell_type": "code",
   "execution_count": 1,
   "metadata": {
    "collapsed": false,
    "scrolled": true
   },
   "outputs": [
    {
     "data": {
      "text/plain": [
       "0     7.0\n",
       "1    12.0\n",
       "2    15.0\n",
       "3    18.0\n",
       "4    13.5\n",
       "dtype: float64"
      ]
     },
     "execution_count": 1,
     "metadata": {},
     "output_type": "execute_result"
    }
   ],
   "source": [
    "import pandas\n",
    "notes = pandas.Series([7,12,15,18,13.5])\n",
    "notes"
   ]
  },
  {
   "cell_type": "markdown",
   "metadata": {},
   "source": [
    "La colonne de gauche est l' *index* de la série. On peut accéder à un terme de la série de la manière suivante:\n",
    "    "
   ]
  },
  {
   "cell_type": "code",
   "execution_count": 2,
   "metadata": {
    "collapsed": false
   },
   "outputs": [
    {
     "data": {
      "text/plain": [
       "7.0"
      ]
     },
     "execution_count": 2,
     "metadata": {},
     "output_type": "execute_result"
    }
   ],
   "source": [
    "notes[0]"
   ]
  },
  {
   "cell_type": "code",
   "execution_count": 3,
   "metadata": {
    "collapsed": false,
    "scrolled": true
   },
   "outputs": [
    {
     "data": {
      "text/plain": [
       "15.0"
      ]
     },
     "execution_count": 3,
     "metadata": {},
     "output_type": "execute_result"
    }
   ],
   "source": [
    "notes[2]"
   ]
  },
  {
   "cell_type": "markdown",
   "metadata": {},
   "source": [
    "On peut par exemple calculer la moyenne des valeurs:\n"
   ]
  },
  {
   "cell_type": "code",
   "execution_count": 4,
   "metadata": {
    "collapsed": false
   },
   "outputs": [
    {
     "data": {
      "text/plain": [
       "13.1"
      ]
     },
     "execution_count": 4,
     "metadata": {},
     "output_type": "execute_result"
    }
   ],
   "source": [
    "notes.mean()"
   ]
  },
  {
   "cell_type": "markdown",
   "metadata": {},
   "source": [
    "### I - 2) b. Exemple d'objet DataFrame"
   ]
  },
  {
   "cell_type": "code",
   "execution_count": 5,
   "metadata": {
    "collapsed": false
   },
   "outputs": [
    {
     "data": {
      "text/html": [
       "<div>\n",
       "<table border=\"1\" class=\"dataframe\">\n",
       "  <thead>\n",
       "    <tr style=\"text-align: right;\">\n",
       "      <th></th>\n",
       "      <th>HG</th>\n",
       "      <th>fr</th>\n",
       "      <th>math</th>\n",
       "    </tr>\n",
       "  </thead>\n",
       "  <tbody>\n",
       "    <tr>\n",
       "      <th>0</th>\n",
       "      <td>14.0</td>\n",
       "      <td>12</td>\n",
       "      <td>12.00</td>\n",
       "    </tr>\n",
       "    <tr>\n",
       "      <th>1</th>\n",
       "      <td>11.0</td>\n",
       "      <td>10</td>\n",
       "      <td>14.00</td>\n",
       "    </tr>\n",
       "    <tr>\n",
       "      <th>2</th>\n",
       "      <td>12.5</td>\n",
       "      <td>9</td>\n",
       "      <td>17.50</td>\n",
       "    </tr>\n",
       "    <tr>\n",
       "      <th>3</th>\n",
       "      <td>15.0</td>\n",
       "      <td>14</td>\n",
       "      <td>8.75</td>\n",
       "    </tr>\n",
       "  </tbody>\n",
       "</table>\n",
       "</div>"
      ],
      "text/plain": [
       "     HG  fr   math\n",
       "0  14.0  12  12.00\n",
       "1  11.0  10  14.00\n",
       "2  12.5   9  17.50\n",
       "3  15.0  14   8.75"
      ]
     },
     "execution_count": 5,
     "metadata": {},
     "output_type": "execute_result"
    }
   ],
   "source": [
    "bulletin = pandas.DataFrame({'math':[12,14,17.5,8.75],'fr':[12,10,9,14],'HG':[14,11,12.5,15]})\n",
    "bulletin"
   ]
  },
  {
   "cell_type": "code",
   "execution_count": 6,
   "metadata": {
    "collapsed": false
   },
   "outputs": [
    {
     "data": {
      "text/plain": [
       "0    12\n",
       "1    10\n",
       "2     9\n",
       "3    14\n",
       "Name: fr, dtype: int64"
      ]
     },
     "execution_count": 6,
     "metadata": {},
     "output_type": "execute_result"
    }
   ],
   "source": [
    "bulletin['fr']"
   ]
  },
  {
   "cell_type": "code",
   "execution_count": 7,
   "metadata": {
    "collapsed": false
   },
   "outputs": [
    {
     "data": {
      "text/plain": [
       "HG      12.5\n",
       "fr       9.0\n",
       "math    17.5\n",
       "Name: 2, dtype: float64"
      ]
     },
     "execution_count": 7,
     "metadata": {},
     "output_type": "execute_result"
    }
   ],
   "source": [
    "bulletin.loc[2]"
   ]
  },
  {
   "cell_type": "code",
   "execution_count": 8,
   "metadata": {
    "collapsed": false
   },
   "outputs": [
    {
     "data": {
      "text/plain": [
       "12.5"
      ]
     },
     "execution_count": 8,
     "metadata": {},
     "output_type": "execute_result"
    }
   ],
   "source": [
    "bulletin.loc[2,'HG']"
   ]
  },
  {
   "cell_type": "markdown",
   "metadata": {},
   "source": [
    "# II - Etude de cas : le titanic"
   ]
  },
  {
   "cell_type": "markdown",
   "metadata": {},
   "source": [
    "## II - 1) Importation des données"
   ]
  },
  {
   "cell_type": "code",
   "execution_count": 9,
   "metadata": {
    "collapsed": false
   },
   "outputs": [],
   "source": [
    "data=pandas.read_csv('titanic.csv', sep = ';')\n"
   ]
  },
  {
   "cell_type": "markdown",
   "metadata": {},
   "source": [
    "## II - 2) Analyse du DataFrame "
   ]
  },
  {
   "cell_type": "code",
   "execution_count": 10,
   "metadata": {
    "collapsed": false
   },
   "outputs": [
    {
     "data": {
      "text/plain": [
       "(1309, 6)"
      ]
     },
     "execution_count": 10,
     "metadata": {},
     "output_type": "execute_result"
    }
   ],
   "source": [
    "data.shape"
   ]
  },
  {
   "cell_type": "code",
   "execution_count": 11,
   "metadata": {
    "collapsed": false
   },
   "outputs": [
    {
     "data": {
      "text/plain": [
       "pclass        int64\n",
       "survived      int64\n",
       "name         object\n",
       "sex          object\n",
       "age         float64\n",
       "fare        float64\n",
       "dtype: object"
      ]
     },
     "execution_count": 11,
     "metadata": {},
     "output_type": "execute_result"
    }
   ],
   "source": [
    "data.dtypes"
   ]
  },
  {
   "cell_type": "code",
   "execution_count": 12,
   "metadata": {
    "collapsed": false
   },
   "outputs": [
    {
     "data": {
      "text/html": [
       "<div>\n",
       "<table border=\"1\" class=\"dataframe\">\n",
       "  <thead>\n",
       "    <tr style=\"text-align: right;\">\n",
       "      <th></th>\n",
       "      <th>pclass</th>\n",
       "      <th>survived</th>\n",
       "      <th>name</th>\n",
       "      <th>sex</th>\n",
       "      <th>age</th>\n",
       "      <th>fare</th>\n",
       "    </tr>\n",
       "  </thead>\n",
       "  <tbody>\n",
       "    <tr>\n",
       "      <th>0</th>\n",
       "      <td>1</td>\n",
       "      <td>1</td>\n",
       "      <td>Allen, Miss. Elisabeth Walton</td>\n",
       "      <td>female</td>\n",
       "      <td>29.0</td>\n",
       "      <td>211.0</td>\n",
       "    </tr>\n",
       "    <tr>\n",
       "      <th>1</th>\n",
       "      <td>1</td>\n",
       "      <td>1</td>\n",
       "      <td>Allison, Master. Hudson Trevor</td>\n",
       "      <td>male</td>\n",
       "      <td>1.0</td>\n",
       "      <td>152.0</td>\n",
       "    </tr>\n",
       "    <tr>\n",
       "      <th>2</th>\n",
       "      <td>1</td>\n",
       "      <td>0</td>\n",
       "      <td>Allison, Miss. Helen Loraine</td>\n",
       "      <td>female</td>\n",
       "      <td>2.0</td>\n",
       "      <td>152.0</td>\n",
       "    </tr>\n",
       "    <tr>\n",
       "      <th>3</th>\n",
       "      <td>1</td>\n",
       "      <td>0</td>\n",
       "      <td>Allison, Mr. Hudson Joshua Creighton</td>\n",
       "      <td>male</td>\n",
       "      <td>30.0</td>\n",
       "      <td>152.0</td>\n",
       "    </tr>\n",
       "    <tr>\n",
       "      <th>4</th>\n",
       "      <td>1</td>\n",
       "      <td>0</td>\n",
       "      <td>Allison, Mrs. Hudson J C (Bessie Waldo Daniels)</td>\n",
       "      <td>female</td>\n",
       "      <td>25.0</td>\n",
       "      <td>152.0</td>\n",
       "    </tr>\n",
       "  </tbody>\n",
       "</table>\n",
       "</div>"
      ],
      "text/plain": [
       "   pclass  survived                                             name     sex  \\\n",
       "0       1         1                    Allen, Miss. Elisabeth Walton  female   \n",
       "1       1         1                   Allison, Master. Hudson Trevor    male   \n",
       "2       1         0                     Allison, Miss. Helen Loraine  female   \n",
       "3       1         0             Allison, Mr. Hudson Joshua Creighton    male   \n",
       "4       1         0  Allison, Mrs. Hudson J C (Bessie Waldo Daniels)  female   \n",
       "\n",
       "    age   fare  \n",
       "0  29.0  211.0  \n",
       "1   1.0  152.0  \n",
       "2   2.0  152.0  \n",
       "3  30.0  152.0  \n",
       "4  25.0  152.0  "
      ]
     },
     "execution_count": 12,
     "metadata": {},
     "output_type": "execute_result"
    }
   ],
   "source": [
    "data.head()"
   ]
  },
  {
   "cell_type": "code",
   "execution_count": 13,
   "metadata": {
    "collapsed": false
   },
   "outputs": [
    {
     "data": {
      "text/plain": [
       "pclass      1309\n",
       "survived    1309\n",
       "name        1309\n",
       "sex         1309\n",
       "age         1046\n",
       "fare        1308\n",
       "dtype: int64"
      ]
     },
     "execution_count": 13,
     "metadata": {},
     "output_type": "execute_result"
    }
   ],
   "source": [
    "data.count()"
   ]
  },
  {
   "cell_type": "code",
   "execution_count": 14,
   "metadata": {
    "collapsed": false
   },
   "outputs": [
    {
     "data": {
      "text/html": [
       "<div>\n",
       "<table border=\"1\" class=\"dataframe\">\n",
       "  <thead>\n",
       "    <tr style=\"text-align: right;\">\n",
       "      <th></th>\n",
       "      <th>pclass</th>\n",
       "      <th>survived</th>\n",
       "      <th>age</th>\n",
       "      <th>fare</th>\n",
       "    </tr>\n",
       "  </thead>\n",
       "  <tbody>\n",
       "    <tr>\n",
       "      <th>count</th>\n",
       "      <td>1309.000000</td>\n",
       "      <td>1309.000000</td>\n",
       "      <td>1046.000000</td>\n",
       "      <td>1308.000000</td>\n",
       "    </tr>\n",
       "    <tr>\n",
       "      <th>mean</th>\n",
       "      <td>2.294882</td>\n",
       "      <td>0.381971</td>\n",
       "      <td>29.897706</td>\n",
       "      <td>33.363150</td>\n",
       "    </tr>\n",
       "    <tr>\n",
       "      <th>std</th>\n",
       "      <td>0.837836</td>\n",
       "      <td>0.486055</td>\n",
       "      <td>14.414973</td>\n",
       "      <td>51.751529</td>\n",
       "    </tr>\n",
       "    <tr>\n",
       "      <th>min</th>\n",
       "      <td>1.000000</td>\n",
       "      <td>0.000000</td>\n",
       "      <td>0.000000</td>\n",
       "      <td>0.000000</td>\n",
       "    </tr>\n",
       "    <tr>\n",
       "      <th>25%</th>\n",
       "      <td>2.000000</td>\n",
       "      <td>0.000000</td>\n",
       "      <td>21.000000</td>\n",
       "      <td>8.000000</td>\n",
       "    </tr>\n",
       "    <tr>\n",
       "      <th>50%</th>\n",
       "      <td>3.000000</td>\n",
       "      <td>0.000000</td>\n",
       "      <td>28.000000</td>\n",
       "      <td>14.000000</td>\n",
       "    </tr>\n",
       "    <tr>\n",
       "      <th>75%</th>\n",
       "      <td>3.000000</td>\n",
       "      <td>1.000000</td>\n",
       "      <td>39.000000</td>\n",
       "      <td>31.000000</td>\n",
       "    </tr>\n",
       "    <tr>\n",
       "      <th>max</th>\n",
       "      <td>3.000000</td>\n",
       "      <td>1.000000</td>\n",
       "      <td>80.000000</td>\n",
       "      <td>512.000000</td>\n",
       "    </tr>\n",
       "  </tbody>\n",
       "</table>\n",
       "</div>"
      ],
      "text/plain": [
       "            pclass     survived          age         fare\n",
       "count  1309.000000  1309.000000  1046.000000  1308.000000\n",
       "mean      2.294882     0.381971    29.897706    33.363150\n",
       "std       0.837836     0.486055    14.414973    51.751529\n",
       "min       1.000000     0.000000     0.000000     0.000000\n",
       "25%       2.000000     0.000000    21.000000     8.000000\n",
       "50%       3.000000     0.000000    28.000000    14.000000\n",
       "75%       3.000000     1.000000    39.000000    31.000000\n",
       "max       3.000000     1.000000    80.000000   512.000000"
      ]
     },
     "execution_count": 14,
     "metadata": {},
     "output_type": "execute_result"
    }
   ],
   "source": [
    "data.describe()"
   ]
  },
  {
   "cell_type": "markdown",
   "metadata": {},
   "source": [
    "## II- 3) Extraire des données"
   ]
  },
  {
   "cell_type": "markdown",
   "metadata": {},
   "source": [
    "### II-3) a. Extraire une colonne"
   ]
  },
  {
   "cell_type": "code",
   "execution_count": 15,
   "metadata": {
    "collapsed": false
   },
   "outputs": [
    {
     "data": {
      "text/plain": [
       "3    709\n",
       "1    323\n",
       "2    277\n",
       "Name: pclass, dtype: int64"
      ]
     },
     "execution_count": 15,
     "metadata": {},
     "output_type": "execute_result"
    }
   ],
   "source": [
    "classe = data['pclass']\n",
    "classe.value_counts()"
   ]
  },
  {
   "cell_type": "code",
   "execution_count": 16,
   "metadata": {
    "collapsed": false
   },
   "outputs": [
    {
     "data": {
      "text/plain": [
       "male      843\n",
       "female    466\n",
       "Name: sex, dtype: int64"
      ]
     },
     "execution_count": 16,
     "metadata": {},
     "output_type": "execute_result"
    }
   ],
   "source": [
    "sexe=data['sex']\n",
    "sexe.value_counts()"
   ]
  },
  {
   "cell_type": "code",
   "execution_count": 17,
   "metadata": {
    "collapsed": false
   },
   "outputs": [
    {
     "data": {
      "text/plain": [
       "0    809\n",
       "1    500\n",
       "Name: survived, dtype: int64"
      ]
     },
     "execution_count": 17,
     "metadata": {},
     "output_type": "execute_result"
    }
   ],
   "source": [
    "survivant=data['survived']\n",
    "survivant.value_counts()"
   ]
  },
  {
   "cell_type": "code",
   "execution_count": 18,
   "metadata": {
    "collapsed": false
   },
   "outputs": [
    {
     "data": {
      "text/plain": [
       "0    0.618029\n",
       "1    0.381971\n",
       "Name: survived, dtype: float64"
      ]
     },
     "execution_count": 18,
     "metadata": {},
     "output_type": "execute_result"
    }
   ],
   "source": [
    "survivant.value_counts()/survivant.count()"
   ]
  },
  {
   "cell_type": "code",
   "execution_count": 19,
   "metadata": {
    "collapsed": false
   },
   "outputs": [
    {
     "data": {
      "text/plain": [
       "43639.0"
      ]
     },
     "execution_count": 19,
     "metadata": {},
     "output_type": "execute_result"
    }
   ],
   "source": [
    "data['fare'].sum()"
   ]
  },
  {
   "cell_type": "markdown",
   "metadata": {},
   "source": [
    "###  II - 3) b. Tableaux croisés"
   ]
  },
  {
   "cell_type": "code",
   "execution_count": 20,
   "metadata": {
    "collapsed": false
   },
   "outputs": [
    {
     "data": {
      "text/html": [
       "<div>\n",
       "<table border=\"1\" class=\"dataframe\">\n",
       "  <thead>\n",
       "    <tr style=\"text-align: right;\">\n",
       "      <th>survived</th>\n",
       "      <th>0</th>\n",
       "      <th>1</th>\n",
       "    </tr>\n",
       "    <tr>\n",
       "      <th>sex</th>\n",
       "      <th></th>\n",
       "      <th></th>\n",
       "    </tr>\n",
       "  </thead>\n",
       "  <tbody>\n",
       "    <tr>\n",
       "      <th>female</th>\n",
       "      <td>127</td>\n",
       "      <td>339</td>\n",
       "    </tr>\n",
       "    <tr>\n",
       "      <th>male</th>\n",
       "      <td>682</td>\n",
       "      <td>161</td>\n",
       "    </tr>\n",
       "  </tbody>\n",
       "</table>\n",
       "</div>"
      ],
      "text/plain": [
       "survived    0    1\n",
       "sex               \n",
       "female    127  339\n",
       "male      682  161"
      ]
     },
     "execution_count": 20,
     "metadata": {},
     "output_type": "execute_result"
    }
   ],
   "source": [
    "pandas.crosstab(data['sex'],data['survived'])"
   ]
  },
  {
   "cell_type": "code",
   "execution_count": 21,
   "metadata": {
    "collapsed": false,
    "scrolled": true
   },
   "outputs": [
    {
     "data": {
      "text/html": [
       "<div>\n",
       "<table border=\"1\" class=\"dataframe\">\n",
       "  <thead>\n",
       "    <tr style=\"text-align: right;\">\n",
       "      <th>survived</th>\n",
       "      <th>0</th>\n",
       "      <th>1</th>\n",
       "    </tr>\n",
       "    <tr>\n",
       "      <th>sex</th>\n",
       "      <th></th>\n",
       "      <th></th>\n",
       "    </tr>\n",
       "  </thead>\n",
       "  <tbody>\n",
       "    <tr>\n",
       "      <th>female</th>\n",
       "      <td>0.272532</td>\n",
       "      <td>0.727468</td>\n",
       "    </tr>\n",
       "    <tr>\n",
       "      <th>male</th>\n",
       "      <td>0.809015</td>\n",
       "      <td>0.190985</td>\n",
       "    </tr>\n",
       "  </tbody>\n",
       "</table>\n",
       "</div>"
      ],
      "text/plain": [
       "survived         0         1\n",
       "sex                         \n",
       "female    0.272532  0.727468\n",
       "male      0.809015  0.190985"
      ]
     },
     "execution_count": 21,
     "metadata": {},
     "output_type": "execute_result"
    }
   ],
   "source": [
    "pandas.crosstab(data['sex'],data['survived'],normalize = 'index')"
   ]
  },
  {
   "cell_type": "code",
   "execution_count": 22,
   "metadata": {
    "collapsed": false
   },
   "outputs": [
    {
     "data": {
      "text/html": [
       "<div>\n",
       "<table border=\"1\" class=\"dataframe\">\n",
       "  <thead>\n",
       "    <tr style=\"text-align: right;\">\n",
       "      <th>survived</th>\n",
       "      <th>0</th>\n",
       "      <th>1</th>\n",
       "    </tr>\n",
       "    <tr>\n",
       "      <th>sex</th>\n",
       "      <th></th>\n",
       "      <th></th>\n",
       "    </tr>\n",
       "  </thead>\n",
       "  <tbody>\n",
       "    <tr>\n",
       "      <th>female</th>\n",
       "      <td>0.156984</td>\n",
       "      <td>0.678</td>\n",
       "    </tr>\n",
       "    <tr>\n",
       "      <th>male</th>\n",
       "      <td>0.843016</td>\n",
       "      <td>0.322</td>\n",
       "    </tr>\n",
       "  </tbody>\n",
       "</table>\n",
       "</div>"
      ],
      "text/plain": [
       "survived         0      1\n",
       "sex                      \n",
       "female    0.156984  0.678\n",
       "male      0.843016  0.322"
      ]
     },
     "execution_count": 22,
     "metadata": {},
     "output_type": "execute_result"
    }
   ],
   "source": [
    "pandas.crosstab(data['sex'],data['survived'],normalize = 'columns')"
   ]
  },
  {
   "cell_type": "code",
   "execution_count": 23,
   "metadata": {
    "collapsed": false
   },
   "outputs": [
    {
     "data": {
      "text/html": [
       "<div>\n",
       "<table border=\"1\" class=\"dataframe\">\n",
       "  <thead>\n",
       "    <tr style=\"text-align: right;\">\n",
       "      <th>survived</th>\n",
       "      <th>0</th>\n",
       "      <th>1</th>\n",
       "    </tr>\n",
       "    <tr>\n",
       "      <th>pclass</th>\n",
       "      <th></th>\n",
       "      <th></th>\n",
       "    </tr>\n",
       "  </thead>\n",
       "  <tbody>\n",
       "    <tr>\n",
       "      <th>1</th>\n",
       "      <td>0.380805</td>\n",
       "      <td>0.619195</td>\n",
       "    </tr>\n",
       "    <tr>\n",
       "      <th>2</th>\n",
       "      <td>0.570397</td>\n",
       "      <td>0.429603</td>\n",
       "    </tr>\n",
       "    <tr>\n",
       "      <th>3</th>\n",
       "      <td>0.744711</td>\n",
       "      <td>0.255289</td>\n",
       "    </tr>\n",
       "  </tbody>\n",
       "</table>\n",
       "</div>"
      ],
      "text/plain": [
       "survived         0         1\n",
       "pclass                      \n",
       "1         0.380805  0.619195\n",
       "2         0.570397  0.429603\n",
       "3         0.744711  0.255289"
      ]
     },
     "execution_count": 23,
     "metadata": {},
     "output_type": "execute_result"
    }
   ],
   "source": [
    "pandas.crosstab(data['pclass'],data['survived'],normalize = 'index')"
   ]
  },
  {
   "cell_type": "markdown",
   "metadata": {},
   "source": [
    "### II- 3) c. Extraction plus ciblée"
   ]
  },
  {
   "cell_type": "code",
   "execution_count": 24,
   "metadata": {
    "collapsed": false
   },
   "outputs": [
    {
     "data": {
      "text/html": [
       "<div>\n",
       "<table border=\"1\" class=\"dataframe\">\n",
       "  <thead>\n",
       "    <tr style=\"text-align: right;\">\n",
       "      <th></th>\n",
       "      <th>pclass</th>\n",
       "      <th>survived</th>\n",
       "      <th>name</th>\n",
       "      <th>sex</th>\n",
       "      <th>age</th>\n",
       "      <th>fare</th>\n",
       "    </tr>\n",
       "  </thead>\n",
       "  <tbody>\n",
       "    <tr>\n",
       "      <th>0</th>\n",
       "      <td>1</td>\n",
       "      <td>1</td>\n",
       "      <td>Allen, Miss. Elisabeth Walton</td>\n",
       "      <td>female</td>\n",
       "      <td>29.0</td>\n",
       "      <td>211.0</td>\n",
       "    </tr>\n",
       "    <tr>\n",
       "      <th>1</th>\n",
       "      <td>1</td>\n",
       "      <td>1</td>\n",
       "      <td>Allison, Master. Hudson Trevor</td>\n",
       "      <td>male</td>\n",
       "      <td>1.0</td>\n",
       "      <td>152.0</td>\n",
       "    </tr>\n",
       "    <tr>\n",
       "      <th>2</th>\n",
       "      <td>1</td>\n",
       "      <td>0</td>\n",
       "      <td>Allison, Miss. Helen Loraine</td>\n",
       "      <td>female</td>\n",
       "      <td>2.0</td>\n",
       "      <td>152.0</td>\n",
       "    </tr>\n",
       "    <tr>\n",
       "      <th>3</th>\n",
       "      <td>1</td>\n",
       "      <td>0</td>\n",
       "      <td>Allison, Mr. Hudson Joshua Creighton</td>\n",
       "      <td>male</td>\n",
       "      <td>30.0</td>\n",
       "      <td>152.0</td>\n",
       "    </tr>\n",
       "    <tr>\n",
       "      <th>4</th>\n",
       "      <td>1</td>\n",
       "      <td>0</td>\n",
       "      <td>Allison, Mrs. Hudson J C (Bessie Waldo Daniels)</td>\n",
       "      <td>female</td>\n",
       "      <td>25.0</td>\n",
       "      <td>152.0</td>\n",
       "    </tr>\n",
       "  </tbody>\n",
       "</table>\n",
       "</div>"
      ],
      "text/plain": [
       "   pclass  survived                                             name     sex  \\\n",
       "0       1         1                    Allen, Miss. Elisabeth Walton  female   \n",
       "1       1         1                   Allison, Master. Hudson Trevor    male   \n",
       "2       1         0                     Allison, Miss. Helen Loraine  female   \n",
       "3       1         0             Allison, Mr. Hudson Joshua Creighton    male   \n",
       "4       1         0  Allison, Mrs. Hudson J C (Bessie Waldo Daniels)  female   \n",
       "\n",
       "    age   fare  \n",
       "0  29.0  211.0  \n",
       "1   1.0  152.0  \n",
       "2   2.0  152.0  \n",
       "3  30.0  152.0  \n",
       "4  25.0  152.0  "
      ]
     },
     "execution_count": 24,
     "metadata": {},
     "output_type": "execute_result"
    }
   ],
   "source": [
    "classe1=data.query('pclass == 1')\n",
    "classe1.head()"
   ]
  },
  {
   "cell_type": "code",
   "execution_count": 25,
   "metadata": {
    "collapsed": false
   },
   "outputs": [
    {
     "data": {
      "text/html": [
       "<div>\n",
       "<table border=\"1\" class=\"dataframe\">\n",
       "  <thead>\n",
       "    <tr style=\"text-align: right;\">\n",
       "      <th></th>\n",
       "      <th>pclass</th>\n",
       "      <th>survived</th>\n",
       "      <th>age</th>\n",
       "      <th>fare</th>\n",
       "    </tr>\n",
       "  </thead>\n",
       "  <tbody>\n",
       "    <tr>\n",
       "      <th>count</th>\n",
       "      <td>323.0</td>\n",
       "      <td>323.000000</td>\n",
       "      <td>284.000000</td>\n",
       "      <td>323.000000</td>\n",
       "    </tr>\n",
       "    <tr>\n",
       "      <th>mean</th>\n",
       "      <td>1.0</td>\n",
       "      <td>0.619195</td>\n",
       "      <td>39.165493</td>\n",
       "      <td>87.594427</td>\n",
       "    </tr>\n",
       "    <tr>\n",
       "      <th>std</th>\n",
       "      <td>0.0</td>\n",
       "      <td>0.486338</td>\n",
       "      <td>14.546043</td>\n",
       "      <td>80.409972</td>\n",
       "    </tr>\n",
       "    <tr>\n",
       "      <th>min</th>\n",
       "      <td>1.0</td>\n",
       "      <td>0.000000</td>\n",
       "      <td>1.000000</td>\n",
       "      <td>0.000000</td>\n",
       "    </tr>\n",
       "    <tr>\n",
       "      <th>25%</th>\n",
       "      <td>1.0</td>\n",
       "      <td>0.000000</td>\n",
       "      <td>28.000000</td>\n",
       "      <td>31.000000</td>\n",
       "    </tr>\n",
       "    <tr>\n",
       "      <th>50%</th>\n",
       "      <td>1.0</td>\n",
       "      <td>1.000000</td>\n",
       "      <td>39.000000</td>\n",
       "      <td>60.000000</td>\n",
       "    </tr>\n",
       "    <tr>\n",
       "      <th>75%</th>\n",
       "      <td>1.0</td>\n",
       "      <td>1.000000</td>\n",
       "      <td>50.000000</td>\n",
       "      <td>107.500000</td>\n",
       "    </tr>\n",
       "    <tr>\n",
       "      <th>max</th>\n",
       "      <td>1.0</td>\n",
       "      <td>1.000000</td>\n",
       "      <td>80.000000</td>\n",
       "      <td>512.000000</td>\n",
       "    </tr>\n",
       "  </tbody>\n",
       "</table>\n",
       "</div>"
      ],
      "text/plain": [
       "       pclass    survived         age        fare\n",
       "count   323.0  323.000000  284.000000  323.000000\n",
       "mean      1.0    0.619195   39.165493   87.594427\n",
       "std       0.0    0.486338   14.546043   80.409972\n",
       "min       1.0    0.000000    1.000000    0.000000\n",
       "25%       1.0    0.000000   28.000000   31.000000\n",
       "50%       1.0    1.000000   39.000000   60.000000\n",
       "75%       1.0    1.000000   50.000000  107.500000\n",
       "max       1.0    1.000000   80.000000  512.000000"
      ]
     },
     "execution_count": 25,
     "metadata": {},
     "output_type": "execute_result"
    }
   ],
   "source": [
    "classe1.describe()"
   ]
  },
  {
   "cell_type": "code",
   "execution_count": 26,
   "metadata": {
    "collapsed": false
   },
   "outputs": [
    {
     "data": {
      "text/html": [
       "<div>\n",
       "<table border=\"1\" class=\"dataframe\">\n",
       "  <thead>\n",
       "    <tr style=\"text-align: right;\">\n",
       "      <th></th>\n",
       "      <th>pclass</th>\n",
       "      <th>survived</th>\n",
       "      <th>age</th>\n",
       "      <th>fare</th>\n",
       "    </tr>\n",
       "  </thead>\n",
       "  <tbody>\n",
       "    <tr>\n",
       "      <th>count</th>\n",
       "      <td>277.0</td>\n",
       "      <td>277.000000</td>\n",
       "      <td>261.000000</td>\n",
       "      <td>277.000000</td>\n",
       "    </tr>\n",
       "    <tr>\n",
       "      <th>mean</th>\n",
       "      <td>2.0</td>\n",
       "      <td>0.429603</td>\n",
       "      <td>29.517241</td>\n",
       "      <td>21.314079</td>\n",
       "    </tr>\n",
       "    <tr>\n",
       "      <th>std</th>\n",
       "      <td>0.0</td>\n",
       "      <td>0.495915</td>\n",
       "      <td>13.632988</td>\n",
       "      <td>13.609949</td>\n",
       "    </tr>\n",
       "    <tr>\n",
       "      <th>min</th>\n",
       "      <td>2.0</td>\n",
       "      <td>0.000000</td>\n",
       "      <td>1.000000</td>\n",
       "      <td>0.000000</td>\n",
       "    </tr>\n",
       "    <tr>\n",
       "      <th>25%</th>\n",
       "      <td>2.0</td>\n",
       "      <td>0.000000</td>\n",
       "      <td>22.000000</td>\n",
       "      <td>13.000000</td>\n",
       "    </tr>\n",
       "    <tr>\n",
       "      <th>50%</th>\n",
       "      <td>2.0</td>\n",
       "      <td>0.000000</td>\n",
       "      <td>29.000000</td>\n",
       "      <td>15.000000</td>\n",
       "    </tr>\n",
       "    <tr>\n",
       "      <th>75%</th>\n",
       "      <td>2.0</td>\n",
       "      <td>1.000000</td>\n",
       "      <td>36.000000</td>\n",
       "      <td>26.000000</td>\n",
       "    </tr>\n",
       "    <tr>\n",
       "      <th>max</th>\n",
       "      <td>2.0</td>\n",
       "      <td>1.000000</td>\n",
       "      <td>70.000000</td>\n",
       "      <td>74.000000</td>\n",
       "    </tr>\n",
       "  </tbody>\n",
       "</table>\n",
       "</div>"
      ],
      "text/plain": [
       "       pclass    survived         age        fare\n",
       "count   277.0  277.000000  261.000000  277.000000\n",
       "mean      2.0    0.429603   29.517241   21.314079\n",
       "std       0.0    0.495915   13.632988   13.609949\n",
       "min       2.0    0.000000    1.000000    0.000000\n",
       "25%       2.0    0.000000   22.000000   13.000000\n",
       "50%       2.0    0.000000   29.000000   15.000000\n",
       "75%       2.0    1.000000   36.000000   26.000000\n",
       "max       2.0    1.000000   70.000000   74.000000"
      ]
     },
     "execution_count": 26,
     "metadata": {},
     "output_type": "execute_result"
    }
   ],
   "source": [
    "classe2 = data.query('pclass == 2')\n",
    "classe2.describe()\n"
   ]
  },
  {
   "cell_type": "code",
   "execution_count": 27,
   "metadata": {
    "collapsed": false
   },
   "outputs": [
    {
     "data": {
      "text/html": [
       "<div>\n",
       "<table border=\"1\" class=\"dataframe\">\n",
       "  <thead>\n",
       "    <tr style=\"text-align: right;\">\n",
       "      <th></th>\n",
       "      <th>pclass</th>\n",
       "      <th>survived</th>\n",
       "      <th>age</th>\n",
       "      <th>fare</th>\n",
       "    </tr>\n",
       "  </thead>\n",
       "  <tbody>\n",
       "    <tr>\n",
       "      <th>count</th>\n",
       "      <td>709.0</td>\n",
       "      <td>709.000000</td>\n",
       "      <td>501.000000</td>\n",
       "      <td>708.000000</td>\n",
       "    </tr>\n",
       "    <tr>\n",
       "      <th>mean</th>\n",
       "      <td>3.0</td>\n",
       "      <td>0.255289</td>\n",
       "      <td>24.842315</td>\n",
       "      <td>13.336158</td>\n",
       "    </tr>\n",
       "    <tr>\n",
       "      <th>std</th>\n",
       "      <td>0.0</td>\n",
       "      <td>0.436331</td>\n",
       "      <td>11.975353</td>\n",
       "      <td>11.481613</td>\n",
       "    </tr>\n",
       "    <tr>\n",
       "      <th>min</th>\n",
       "      <td>3.0</td>\n",
       "      <td>0.000000</td>\n",
       "      <td>0.000000</td>\n",
       "      <td>0.000000</td>\n",
       "    </tr>\n",
       "    <tr>\n",
       "      <th>25%</th>\n",
       "      <td>3.0</td>\n",
       "      <td>0.000000</td>\n",
       "      <td>18.000000</td>\n",
       "      <td>8.000000</td>\n",
       "    </tr>\n",
       "    <tr>\n",
       "      <th>50%</th>\n",
       "      <td>3.0</td>\n",
       "      <td>0.000000</td>\n",
       "      <td>24.000000</td>\n",
       "      <td>8.000000</td>\n",
       "    </tr>\n",
       "    <tr>\n",
       "      <th>75%</th>\n",
       "      <td>3.0</td>\n",
       "      <td>1.000000</td>\n",
       "      <td>32.000000</td>\n",
       "      <td>15.000000</td>\n",
       "    </tr>\n",
       "    <tr>\n",
       "      <th>max</th>\n",
       "      <td>3.0</td>\n",
       "      <td>1.000000</td>\n",
       "      <td>74.000000</td>\n",
       "      <td>70.000000</td>\n",
       "    </tr>\n",
       "  </tbody>\n",
       "</table>\n",
       "</div>"
      ],
      "text/plain": [
       "       pclass    survived         age        fare\n",
       "count   709.0  709.000000  501.000000  708.000000\n",
       "mean      3.0    0.255289   24.842315   13.336158\n",
       "std       0.0    0.436331   11.975353   11.481613\n",
       "min       3.0    0.000000    0.000000    0.000000\n",
       "25%       3.0    0.000000   18.000000    8.000000\n",
       "50%       3.0    0.000000   24.000000    8.000000\n",
       "75%       3.0    1.000000   32.000000   15.000000\n",
       "max       3.0    1.000000   74.000000   70.000000"
      ]
     },
     "execution_count": 27,
     "metadata": {},
     "output_type": "execute_result"
    }
   ],
   "source": [
    "classe3 = data.query('pclass == 3')\n",
    "classe3.describe()"
   ]
  },
  {
   "cell_type": "code",
   "execution_count": 28,
   "metadata": {
    "collapsed": false
   },
   "outputs": [
    {
     "data": {
      "text/html": [
       "<div>\n",
       "<table border=\"1\" class=\"dataframe\">\n",
       "  <thead>\n",
       "    <tr style=\"text-align: right;\">\n",
       "      <th></th>\n",
       "      <th>pclass</th>\n",
       "      <th>survived</th>\n",
       "      <th>age</th>\n",
       "      <th>fare</th>\n",
       "    </tr>\n",
       "  </thead>\n",
       "  <tbody>\n",
       "    <tr>\n",
       "      <th>count</th>\n",
       "      <td>843.000000</td>\n",
       "      <td>843.000000</td>\n",
       "      <td>658.000000</td>\n",
       "      <td>842.000000</td>\n",
       "    </tr>\n",
       "    <tr>\n",
       "      <th>mean</th>\n",
       "      <td>2.372479</td>\n",
       "      <td>0.190985</td>\n",
       "      <td>30.607903</td>\n",
       "      <td>26.232779</td>\n",
       "    </tr>\n",
       "    <tr>\n",
       "      <th>std</th>\n",
       "      <td>0.811908</td>\n",
       "      <td>0.393310</td>\n",
       "      <td>14.284287</td>\n",
       "      <td>42.488389</td>\n",
       "    </tr>\n",
       "    <tr>\n",
       "      <th>min</th>\n",
       "      <td>1.000000</td>\n",
       "      <td>0.000000</td>\n",
       "      <td>0.000000</td>\n",
       "      <td>0.000000</td>\n",
       "    </tr>\n",
       "    <tr>\n",
       "      <th>25%</th>\n",
       "      <td>2.000000</td>\n",
       "      <td>0.000000</td>\n",
       "      <td>21.000000</td>\n",
       "      <td>8.000000</td>\n",
       "    </tr>\n",
       "    <tr>\n",
       "      <th>50%</th>\n",
       "      <td>3.000000</td>\n",
       "      <td>0.000000</td>\n",
       "      <td>28.000000</td>\n",
       "      <td>12.000000</td>\n",
       "    </tr>\n",
       "    <tr>\n",
       "      <th>75%</th>\n",
       "      <td>3.000000</td>\n",
       "      <td>0.000000</td>\n",
       "      <td>39.000000</td>\n",
       "      <td>27.000000</td>\n",
       "    </tr>\n",
       "    <tr>\n",
       "      <th>max</th>\n",
       "      <td>3.000000</td>\n",
       "      <td>1.000000</td>\n",
       "      <td>80.000000</td>\n",
       "      <td>512.000000</td>\n",
       "    </tr>\n",
       "  </tbody>\n",
       "</table>\n",
       "</div>"
      ],
      "text/plain": [
       "           pclass    survived         age        fare\n",
       "count  843.000000  843.000000  658.000000  842.000000\n",
       "mean     2.372479    0.190985   30.607903   26.232779\n",
       "std      0.811908    0.393310   14.284287   42.488389\n",
       "min      1.000000    0.000000    0.000000    0.000000\n",
       "25%      2.000000    0.000000   21.000000    8.000000\n",
       "50%      3.000000    0.000000   28.000000   12.000000\n",
       "75%      3.000000    0.000000   39.000000   27.000000\n",
       "max      3.000000    1.000000   80.000000  512.000000"
      ]
     },
     "execution_count": 28,
     "metadata": {},
     "output_type": "execute_result"
    }
   ],
   "source": [
    "homme = data.query('sex == \"male\"') \n",
    "homme.describe()"
   ]
  },
  {
   "cell_type": "code",
   "execution_count": 29,
   "metadata": {
    "collapsed": false
   },
   "outputs": [
    {
     "data": {
      "text/html": [
       "<div>\n",
       "<table border=\"1\" class=\"dataframe\">\n",
       "  <thead>\n",
       "    <tr style=\"text-align: right;\">\n",
       "      <th></th>\n",
       "      <th>pclass</th>\n",
       "      <th>survived</th>\n",
       "      <th>age</th>\n",
       "      <th>fare</th>\n",
       "    </tr>\n",
       "  </thead>\n",
       "  <tbody>\n",
       "    <tr>\n",
       "      <th>count</th>\n",
       "      <td>466.000000</td>\n",
       "      <td>466.000000</td>\n",
       "      <td>388.000000</td>\n",
       "      <td>466.000000</td>\n",
       "    </tr>\n",
       "    <tr>\n",
       "      <th>mean</th>\n",
       "      <td>2.154506</td>\n",
       "      <td>0.727468</td>\n",
       "      <td>28.693299</td>\n",
       "      <td>46.246781</td>\n",
       "    </tr>\n",
       "    <tr>\n",
       "      <th>std</th>\n",
       "      <td>0.866181</td>\n",
       "      <td>0.445741</td>\n",
       "      <td>14.573391</td>\n",
       "      <td>63.280373</td>\n",
       "    </tr>\n",
       "    <tr>\n",
       "      <th>min</th>\n",
       "      <td>1.000000</td>\n",
       "      <td>0.000000</td>\n",
       "      <td>0.000000</td>\n",
       "      <td>7.000000</td>\n",
       "    </tr>\n",
       "    <tr>\n",
       "      <th>25%</th>\n",
       "      <td>1.000000</td>\n",
       "      <td>0.000000</td>\n",
       "      <td>19.000000</td>\n",
       "      <td>11.000000</td>\n",
       "    </tr>\n",
       "    <tr>\n",
       "      <th>50%</th>\n",
       "      <td>2.000000</td>\n",
       "      <td>1.000000</td>\n",
       "      <td>27.000000</td>\n",
       "      <td>23.000000</td>\n",
       "    </tr>\n",
       "    <tr>\n",
       "      <th>75%</th>\n",
       "      <td>3.000000</td>\n",
       "      <td>1.000000</td>\n",
       "      <td>38.000000</td>\n",
       "      <td>55.000000</td>\n",
       "    </tr>\n",
       "    <tr>\n",
       "      <th>max</th>\n",
       "      <td>3.000000</td>\n",
       "      <td>1.000000</td>\n",
       "      <td>76.000000</td>\n",
       "      <td>512.000000</td>\n",
       "    </tr>\n",
       "  </tbody>\n",
       "</table>\n",
       "</div>"
      ],
      "text/plain": [
       "           pclass    survived         age        fare\n",
       "count  466.000000  466.000000  388.000000  466.000000\n",
       "mean     2.154506    0.727468   28.693299   46.246781\n",
       "std      0.866181    0.445741   14.573391   63.280373\n",
       "min      1.000000    0.000000    0.000000    7.000000\n",
       "25%      1.000000    0.000000   19.000000   11.000000\n",
       "50%      2.000000    1.000000   27.000000   23.000000\n",
       "75%      3.000000    1.000000   38.000000   55.000000\n",
       "max      3.000000    1.000000   76.000000  512.000000"
      ]
     },
     "execution_count": 29,
     "metadata": {},
     "output_type": "execute_result"
    }
   ],
   "source": [
    "femme = data.query('sex == \"female\"') \n",
    "femme.describe()"
   ]
  },
  {
   "cell_type": "code",
   "execution_count": 30,
   "metadata": {
    "collapsed": false
   },
   "outputs": [
    {
     "data": {
      "text/plain": [
       "pclass       2.564767\n",
       "survived     0.492228\n",
       "age         10.911917\n",
       "fare        31.932642\n",
       "dtype: float64"
      ]
     },
     "execution_count": 30,
     "metadata": {},
     "output_type": "execute_result"
    }
   ],
   "source": [
    "mineur = data.query('age <= 18')\n",
    "mineur.mean()"
   ]
  },
  {
   "cell_type": "code",
   "execution_count": 31,
   "metadata": {
    "collapsed": false
   },
   "outputs": [
    {
     "data": {
      "text/plain": [
       "pclass       2.126612\n",
       "survived     0.389215\n",
       "age         34.193435\n",
       "fare        37.846244\n",
       "dtype: float64"
      ]
     },
     "execution_count": 31,
     "metadata": {},
     "output_type": "execute_result"
    }
   ],
   "source": [
    "majeur=data.query('age>18')\n",
    "majeur.mean()"
   ]
  },
  {
   "cell_type": "code",
   "execution_count": 32,
   "metadata": {
    "collapsed": false
   },
   "outputs": [
    {
     "data": {
      "text/plain": [
       "0    0.507772\n",
       "1    0.492228\n",
       "Name: survived, dtype: float64"
      ]
     },
     "execution_count": 32,
     "metadata": {},
     "output_type": "execute_result"
    }
   ],
   "source": [
    "mineur['survived'].value_counts()/mineur['survived'].count()"
   ]
  },
  {
   "cell_type": "markdown",
   "metadata": {},
   "source": [
    "## II - 4) Trier les valeurs"
   ]
  },
  {
   "cell_type": "code",
   "execution_count": 33,
   "metadata": {
    "collapsed": false
   },
   "outputs": [
    {
     "data": {
      "text/plain": [
       "pclass                                3\n",
       "survived                              1\n",
       "name        van Melkebeke, Mr. Philemon\n",
       "sex                                male\n",
       "age                                  80\n",
       "fare                                512\n",
       "dtype: object"
      ]
     },
     "execution_count": 33,
     "metadata": {},
     "output_type": "execute_result"
    }
   ],
   "source": [
    "data.max()"
   ]
  },
  {
   "cell_type": "code",
   "execution_count": 34,
   "metadata": {
    "collapsed": false
   },
   "outputs": [
    {
     "data": {
      "text/html": [
       "<div>\n",
       "<table border=\"1\" class=\"dataframe\">\n",
       "  <thead>\n",
       "    <tr style=\"text-align: right;\">\n",
       "      <th></th>\n",
       "      <th>pclass</th>\n",
       "      <th>survived</th>\n",
       "      <th>name</th>\n",
       "      <th>sex</th>\n",
       "      <th>age</th>\n",
       "      <th>fare</th>\n",
       "    </tr>\n",
       "  </thead>\n",
       "  <tbody>\n",
       "    <tr>\n",
       "      <th>50</th>\n",
       "      <td>1</td>\n",
       "      <td>1</td>\n",
       "      <td>Cardeza, Mrs. James Warburton Martinez (Charlo...</td>\n",
       "      <td>female</td>\n",
       "      <td>58.0</td>\n",
       "      <td>512.0</td>\n",
       "    </tr>\n",
       "    <tr>\n",
       "      <th>49</th>\n",
       "      <td>1</td>\n",
       "      <td>1</td>\n",
       "      <td>Cardeza, Mr. Thomas Drake Martinez</td>\n",
       "      <td>male</td>\n",
       "      <td>36.0</td>\n",
       "      <td>512.0</td>\n",
       "    </tr>\n",
       "    <tr>\n",
       "      <th>183</th>\n",
       "      <td>1</td>\n",
       "      <td>1</td>\n",
       "      <td>Lesurer, Mr. Gustave J</td>\n",
       "      <td>male</td>\n",
       "      <td>35.0</td>\n",
       "      <td>512.0</td>\n",
       "    </tr>\n",
       "    <tr>\n",
       "      <th>302</th>\n",
       "      <td>1</td>\n",
       "      <td>1</td>\n",
       "      <td>Ward, Miss. Anna</td>\n",
       "      <td>female</td>\n",
       "      <td>35.0</td>\n",
       "      <td>512.0</td>\n",
       "    </tr>\n",
       "    <tr>\n",
       "      <th>112</th>\n",
       "      <td>1</td>\n",
       "      <td>1</td>\n",
       "      <td>Fortune, Miss. Ethel Flora</td>\n",
       "      <td>female</td>\n",
       "      <td>28.0</td>\n",
       "      <td>263.0</td>\n",
       "    </tr>\n",
       "  </tbody>\n",
       "</table>\n",
       "</div>"
      ],
      "text/plain": [
       "     pclass  survived                                               name  \\\n",
       "50        1         1  Cardeza, Mrs. James Warburton Martinez (Charlo...   \n",
       "49        1         1                 Cardeza, Mr. Thomas Drake Martinez   \n",
       "183       1         1                             Lesurer, Mr. Gustave J   \n",
       "302       1         1                                   Ward, Miss. Anna   \n",
       "112       1         1                         Fortune, Miss. Ethel Flora   \n",
       "\n",
       "        sex   age   fare  \n",
       "50   female  58.0  512.0  \n",
       "49     male  36.0  512.0  \n",
       "183    male  35.0  512.0  \n",
       "302  female  35.0  512.0  \n",
       "112  female  28.0  263.0  "
      ]
     },
     "execution_count": 34,
     "metadata": {},
     "output_type": "execute_result"
    }
   ],
   "source": [
    "tarif = data.sort_values(by='fare',ascending = False)\n",
    "tarif.head()"
   ]
  },
  {
   "cell_type": "code",
   "execution_count": 35,
   "metadata": {
    "collapsed": false
   },
   "outputs": [
    {
     "data": {
      "text/html": [
       "<div>\n",
       "<table border=\"1\" class=\"dataframe\">\n",
       "  <thead>\n",
       "    <tr style=\"text-align: right;\">\n",
       "      <th></th>\n",
       "      <th>pclass</th>\n",
       "      <th>survived</th>\n",
       "      <th>name</th>\n",
       "      <th>sex</th>\n",
       "      <th>age</th>\n",
       "      <th>fare</th>\n",
       "    </tr>\n",
       "  </thead>\n",
       "  <tbody>\n",
       "    <tr>\n",
       "      <th>14</th>\n",
       "      <td>1</td>\n",
       "      <td>1</td>\n",
       "      <td>Barkworth, Mr. Algernon Henry Wilson</td>\n",
       "      <td>male</td>\n",
       "      <td>80.0</td>\n",
       "      <td>30.0</td>\n",
       "    </tr>\n",
       "    <tr>\n",
       "      <th>61</th>\n",
       "      <td>1</td>\n",
       "      <td>1</td>\n",
       "      <td>Cavendish, Mrs. Tyrell William (Julia Florence...</td>\n",
       "      <td>female</td>\n",
       "      <td>76.0</td>\n",
       "      <td>79.0</td>\n",
       "    </tr>\n",
       "    <tr>\n",
       "      <th>1235</th>\n",
       "      <td>3</td>\n",
       "      <td>0</td>\n",
       "      <td>Svensson, Mr. Johan</td>\n",
       "      <td>male</td>\n",
       "      <td>74.0</td>\n",
       "      <td>8.0</td>\n",
       "    </tr>\n",
       "    <tr>\n",
       "      <th>9</th>\n",
       "      <td>1</td>\n",
       "      <td>0</td>\n",
       "      <td>Artagaveytia, Mr. Ramon</td>\n",
       "      <td>male</td>\n",
       "      <td>71.0</td>\n",
       "      <td>50.0</td>\n",
       "    </tr>\n",
       "    <tr>\n",
       "      <th>727</th>\n",
       "      <td>3</td>\n",
       "      <td>0</td>\n",
       "      <td>Connors, Mr. Patrick</td>\n",
       "      <td>male</td>\n",
       "      <td>71.0</td>\n",
       "      <td>8.0</td>\n",
       "    </tr>\n",
       "  </tbody>\n",
       "</table>\n",
       "</div>"
      ],
      "text/plain": [
       "      pclass  survived                                               name  \\\n",
       "14         1         1               Barkworth, Mr. Algernon Henry Wilson   \n",
       "61         1         1  Cavendish, Mrs. Tyrell William (Julia Florence...   \n",
       "1235       3         0                                Svensson, Mr. Johan   \n",
       "9          1         0                            Artagaveytia, Mr. Ramon   \n",
       "727        3         0                               Connors, Mr. Patrick   \n",
       "\n",
       "         sex   age  fare  \n",
       "14      male  80.0  30.0  \n",
       "61    female  76.0  79.0  \n",
       "1235    male  74.0   8.0  \n",
       "9       male  71.0  50.0  \n",
       "727     male  71.0   8.0  "
      ]
     },
     "execution_count": 35,
     "metadata": {},
     "output_type": "execute_result"
    }
   ],
   "source": [
    "age = data.sort_values(by='age',ascending = False)\n",
    "age.head()"
   ]
  },
  {
   "cell_type": "markdown",
   "metadata": {},
   "source": [
    "## II- 5) Représentations graphiques"
   ]
  },
  {
   "cell_type": "code",
   "execution_count": 36,
   "metadata": {
    "collapsed": true
   },
   "outputs": [],
   "source": [
    "import matplotlib.pyplot as plt"
   ]
  },
  {
   "cell_type": "markdown",
   "metadata": {},
   "source": [
    "### II- 5) a. Histogrammes"
   ]
  },
  {
   "cell_type": "code",
   "execution_count": 37,
   "metadata": {
    "collapsed": false
   },
   "outputs": [
    {
     "data": {
      "image/png": "[encoded data removed]",
      "text/plain": [
       "<matplotlib.figure.Figure at 0x276f0abd3c8>"
      ]
     },
     "metadata": {},
     "output_type": "display_data"
    }
   ],
   "source": [
    "data.hist(column = 'age', bins = range(0,100,5))\n",
    "plt.show()"
   ]
  },
  {
   "cell_type": "code",
   "execution_count": 38,
   "metadata": {
    "collapsed": false
   },
   "outputs": [
    {
     "data": {
      "image/png": "[encoded data removed]",
      "text/plain": [
       "<matplotlib.figure.Figure at 0x276f15862e8>"
      ]
     },
     "metadata": {},
     "output_type": "display_data"
    }
   ],
   "source": [
    "data.hist(column = 'age', bins = range(0,100,5),normed = True)\n",
    "plt.show()"
   ]
  },
  {
   "cell_type": "code",
   "execution_count": 39,
   "metadata": {
    "collapsed": false
   },
   "outputs": [
    {
     "data": {
      "image/png": "[encoded data removed]",
      "text/plain": [
       "<matplotlib.figure.Figure at 0x276f1634780>"
      ]
     },
     "metadata": {},
     "output_type": "display_data"
    }
   ],
   "source": [
    "data.hist(column = 'age', bins = range(0,100,5),normed = True,by = 'pclass')\n",
    "plt.show()"
   ]
  },
  {
   "cell_type": "markdown",
   "metadata": {},
   "source": [
    "### II- 5) b. Diagrammes en boîtes "
   ]
  },
  {
   "cell_type": "code",
   "execution_count": 40,
   "metadata": {
    "collapsed": false
   },
   "outputs": [
    {
     "data": {
      "image/png": "[encoded data removed]",
      "text/plain": [
       "<matplotlib.figure.Figure at 0x276f17ab860>"
      ]
     },
     "metadata": {},
     "output_type": "display_data"
    }
   ],
   "source": [
    "data.boxplot(column='age')\n",
    "plt.show()"
   ]
  },
  {
   "cell_type": "code",
   "execution_count": 41,
   "metadata": {
    "collapsed": false
   },
   "outputs": [
    {
     "data": {
      "image/png": "[encoded data removed]",
      "text/plain": [
       "<matplotlib.figure.Figure at 0x276f185de48>"
      ]
     },
     "metadata": {},
     "output_type": "display_data"
    }
   ],
   "source": [
    "data.boxplot(column='age', by = 'pclass')\n",
    "plt.show()"
   ]
  },
  {
   "cell_type": "markdown",
   "metadata": {},
   "source": [
    "### II- 5) c. Nuages de points"
   ]
  },
  {
   "cell_type": "code",
   "execution_count": 42,
   "metadata": {
    "collapsed": false
   },
   "outputs": [
    {
     "data": {
      "image/png": "[encoded data removed]",
      "text/plain": [
       "<matplotlib.figure.Figure at 0x276f1886978>"
      ]
     },
     "metadata": {},
     "output_type": "display_data"
    }
   ],
   "source": [
    "data.plot.scatter(x='age',y='fare')\n",
    "plt.show()"
   ]
  },
  {
   "cell_type": "markdown",
   "metadata": {},
   "source": [
    "### II- 5) d. Diagrammes circulaires"
   ]
  },
  {
   "cell_type": "code",
   "execution_count": 43,
   "metadata": {
    "collapsed": false
   },
   "outputs": [
    {
     "data": {
      "image/png": "[encoded data removed]",
      "text/plain": [
       "<matplotlib.figure.Figure at 0x276f19d8b38>"
      ]
     },
     "metadata": {},
     "output_type": "display_data"
    }
   ],
   "source": [
    "classe = data['pclass'].value_counts()\n",
    "classe.plot.pie(autopct='%.2f')\n",
    "plt.show()\n"
   ]
  },
  {
   "cell_type": "markdown",
   "metadata": {
    "collapsed": false
   },
   "source": [
    "\n",
    "# III - Tout sur mon prénom"
   ]
  },
  {
   "cell_type": "markdown",
   "metadata": {
    "collapsed": true
   },
   "source": [
    "## III - 1) Importer les données\n"
   ]
  },
  {
   "cell_type": "code",
   "execution_count": 44,
   "metadata": {
    "collapsed": false
   },
   "outputs": [],
   "source": [
    "import matplotlib.pyplot as plt\n",
    "import pandas \n",
    "data = pandas.read_csv('dpt2016.txt',sep='\\t',encoding='latin-1')"
   ]
  },
  {
   "cell_type": "markdown",
   "metadata": {},
   "source": [
    "## III - 2) Analyse du fichier de données"
   ]
  },
  {
   "cell_type": "code",
   "execution_count": 45,
   "metadata": {
    "collapsed": false
   },
   "outputs": [
    {
     "data": {
      "text/plain": [
       "(3458697, 5)"
      ]
     },
     "execution_count": 45,
     "metadata": {},
     "output_type": "execute_result"
    }
   ],
   "source": [
    "data.shape"
   ]
  },
  {
   "cell_type": "code",
   "execution_count": 46,
   "metadata": {
    "collapsed": false
   },
   "outputs": [
    {
     "data": {
      "text/html": [
       "<div>\n",
       "<table border=\"1\" class=\"dataframe\">\n",
       "  <thead>\n",
       "    <tr style=\"text-align: right;\">\n",
       "      <th></th>\n",
       "      <th>sexe</th>\n",
       "      <th>preusuel</th>\n",
       "      <th>annais</th>\n",
       "      <th>dpt</th>\n",
       "      <th>nombre</th>\n",
       "    </tr>\n",
       "  </thead>\n",
       "  <tbody>\n",
       "    <tr>\n",
       "      <th>0</th>\n",
       "      <td>1</td>\n",
       "      <td>A</td>\n",
       "      <td>XXXX</td>\n",
       "      <td>XX</td>\n",
       "      <td>28</td>\n",
       "    </tr>\n",
       "    <tr>\n",
       "      <th>1</th>\n",
       "      <td>1</td>\n",
       "      <td>AADAM</td>\n",
       "      <td>XXXX</td>\n",
       "      <td>XX</td>\n",
       "      <td>20</td>\n",
       "    </tr>\n",
       "    <tr>\n",
       "      <th>2</th>\n",
       "      <td>1</td>\n",
       "      <td>AADEL</td>\n",
       "      <td>XXXX</td>\n",
       "      <td>XX</td>\n",
       "      <td>54</td>\n",
       "    </tr>\n",
       "    <tr>\n",
       "      <th>3</th>\n",
       "      <td>1</td>\n",
       "      <td>AADIL</td>\n",
       "      <td>1983</td>\n",
       "      <td>84</td>\n",
       "      <td>3</td>\n",
       "    </tr>\n",
       "    <tr>\n",
       "      <th>4</th>\n",
       "      <td>1</td>\n",
       "      <td>AADIL</td>\n",
       "      <td>1992</td>\n",
       "      <td>92</td>\n",
       "      <td>3</td>\n",
       "    </tr>\n",
       "  </tbody>\n",
       "</table>\n",
       "</div>"
      ],
      "text/plain": [
       "   sexe preusuel annais dpt  nombre\n",
       "0     1        A   XXXX  XX      28\n",
       "1     1    AADAM   XXXX  XX      20\n",
       "2     1    AADEL   XXXX  XX      54\n",
       "3     1    AADIL   1983  84       3\n",
       "4     1    AADIL   1992  92       3"
      ]
     },
     "execution_count": 46,
     "metadata": {},
     "output_type": "execute_result"
    }
   ],
   "source": [
    "data.head()"
   ]
  },
  {
   "cell_type": "code",
   "execution_count": 47,
   "metadata": {
    "collapsed": false
   },
   "outputs": [
    {
     "data": {
      "text/plain": [
       "sexe         int64\n",
       "preusuel    object\n",
       "annais      object\n",
       "dpt         object\n",
       "nombre       int64\n",
       "dtype: object"
      ]
     },
     "execution_count": 47,
     "metadata": {},
     "output_type": "execute_result"
    }
   ],
   "source": [
    "data.dtypes"
   ]
  },
  {
   "cell_type": "markdown",
   "metadata": {},
   "source": [
    "## III - 3) Grouper les données : la méthode groupby"
   ]
  },
  {
   "cell_type": "code",
   "execution_count": 48,
   "metadata": {
    "collapsed": true
   },
   "outputs": [],
   "source": [
    "mon_prenom = data.query('preusuel==\"PIERRE\"')"
   ]
  },
  {
   "cell_type": "code",
   "execution_count": 49,
   "metadata": {
    "collapsed": false
   },
   "outputs": [
    {
     "data": {
      "text/plain": [
       "890941"
      ]
     },
     "execution_count": 49,
     "metadata": {},
     "output_type": "execute_result"
    }
   ],
   "source": [
    "mon_prenom['nombre'].sum()"
   ]
  },
  {
   "cell_type": "code",
   "execution_count": 50,
   "metadata": {
    "collapsed": true
   },
   "outputs": [],
   "source": [
    "mon_prenom_evolution = mon_prenom.groupby('annais').sum()"
   ]
  },
  {
   "cell_type": "code",
   "execution_count": 51,
   "metadata": {
    "collapsed": false
   },
   "outputs": [
    {
     "data": {
      "text/html": [
       "<div>\n",
       "<table border=\"1\" class=\"dataframe\">\n",
       "  <thead>\n",
       "    <tr style=\"text-align: right;\">\n",
       "      <th></th>\n",
       "      <th>sexe</th>\n",
       "      <th>nombre</th>\n",
       "    </tr>\n",
       "    <tr>\n",
       "      <th>annais</th>\n",
       "      <th></th>\n",
       "      <th></th>\n",
       "    </tr>\n",
       "  </thead>\n",
       "  <tbody>\n",
       "    <tr>\n",
       "      <th>1900</th>\n",
       "      <td>93</td>\n",
       "      <td>7467</td>\n",
       "    </tr>\n",
       "    <tr>\n",
       "      <th>1901</th>\n",
       "      <td>93</td>\n",
       "      <td>8463</td>\n",
       "    </tr>\n",
       "    <tr>\n",
       "      <th>1902</th>\n",
       "      <td>93</td>\n",
       "      <td>8987</td>\n",
       "    </tr>\n",
       "    <tr>\n",
       "      <th>1903</th>\n",
       "      <td>93</td>\n",
       "      <td>9085</td>\n",
       "    </tr>\n",
       "    <tr>\n",
       "      <th>1904</th>\n",
       "      <td>93</td>\n",
       "      <td>9228</td>\n",
       "    </tr>\n",
       "  </tbody>\n",
       "</table>\n",
       "</div>"
      ],
      "text/plain": [
       "        sexe  nombre\n",
       "annais              \n",
       "1900      93    7467\n",
       "1901      93    8463\n",
       "1902      93    8987\n",
       "1903      93    9085\n",
       "1904      93    9228"
      ]
     },
     "execution_count": 51,
     "metadata": {},
     "output_type": "execute_result"
    }
   ],
   "source": [
    "mon_prenom_evolution.head()"
   ]
  },
  {
   "cell_type": "code",
   "execution_count": 52,
   "metadata": {
    "collapsed": false
   },
   "outputs": [
    {
     "data": {
      "image/png": "[encoded data removed]",
      "text/plain": [
       "<matplotlib.figure.Figure at 0x276f2b71d30>"
      ]
     },
     "metadata": {},
     "output_type": "display_data"
    }
   ],
   "source": [
    "mon_prenom_evolution = mon_prenom_evolution['nombre']\n",
    "mon_prenom_evolution = mon_prenom_evolution.drop('XXXX')\n",
    "plt.plot(mon_prenom_evolution)\n",
    "plt.show()"
   ]
  },
  {
   "cell_type": "code",
   "execution_count": 53,
   "metadata": {
    "collapsed": false
   },
   "outputs": [
    {
     "data": {
      "image/png": "[encoded data removed]",
      "text/plain": [
       "<matplotlib.figure.Figure at 0x27681b00eb8>"
      ]
     },
     "metadata": {},
     "output_type": "display_data"
    }
   ],
   "source": [
    "prenoms_rares = data.query('preusuel==\"_PRENOMS_RARES\"')\n",
    "prenoms_rares_evolution = prenoms_rares.groupby('annais').sum()\n",
    "prenoms_rares_evolution = prenoms_rares_evolution['nombre']\n",
    "prenoms_rares_evolution = prenoms_rares_evolution.drop('XXXX')\n",
    "plt.plot(prenoms_rares_evolution)\n",
    "plt.show()"
   ]
  },
  {
   "cell_type": "markdown",
   "metadata": {},
   "source": [
    "## III- 4) Le top 10 de mon annee"
   ]
  },
  {
   "cell_type": "code",
   "execution_count": 54,
   "metadata": {
    "collapsed": false
   },
   "outputs": [
    {
     "data": {
      "text/html": [
       "<div>\n",
       "<table border=\"1\" class=\"dataframe\">\n",
       "  <thead>\n",
       "    <tr style=\"text-align: right;\">\n",
       "      <th></th>\n",
       "      <th>sexe</th>\n",
       "      <th>nombre</th>\n",
       "    </tr>\n",
       "    <tr>\n",
       "      <th>preusuel</th>\n",
       "      <th></th>\n",
       "      <th></th>\n",
       "    </tr>\n",
       "  </thead>\n",
       "  <tbody>\n",
       "    <tr>\n",
       "      <th>_PRENOMS_RARES</th>\n",
       "      <td>288</td>\n",
       "      <td>55183</td>\n",
       "    </tr>\n",
       "    <tr>\n",
       "      <th>GABRIEL</th>\n",
       "      <td>96</td>\n",
       "      <td>5869</td>\n",
       "    </tr>\n",
       "    <tr>\n",
       "      <th>JULES</th>\n",
       "      <td>96</td>\n",
       "      <td>5028</td>\n",
       "    </tr>\n",
       "    <tr>\n",
       "      <th>EMMA</th>\n",
       "      <td>186</td>\n",
       "      <td>4725</td>\n",
       "    </tr>\n",
       "    <tr>\n",
       "      <th>ADAM</th>\n",
       "      <td>93</td>\n",
       "      <td>4654</td>\n",
       "    </tr>\n",
       "    <tr>\n",
       "      <th>LUCAS</th>\n",
       "      <td>95</td>\n",
       "      <td>4585</td>\n",
       "    </tr>\n",
       "    <tr>\n",
       "      <th>LOUIS</th>\n",
       "      <td>96</td>\n",
       "      <td>4570</td>\n",
       "    </tr>\n",
       "    <tr>\n",
       "      <th>RAPHAËL</th>\n",
       "      <td>93</td>\n",
       "      <td>4383</td>\n",
       "    </tr>\n",
       "    <tr>\n",
       "      <th>LOUISE</th>\n",
       "      <td>190</td>\n",
       "      <td>4174</td>\n",
       "    </tr>\n",
       "    <tr>\n",
       "      <th>JADE</th>\n",
       "      <td>190</td>\n",
       "      <td>4133</td>\n",
       "    </tr>\n",
       "  </tbody>\n",
       "</table>\n",
       "</div>"
      ],
      "text/plain": [
       "                sexe  nombre\n",
       "preusuel                    \n",
       "_PRENOMS_RARES   288   55183\n",
       "GABRIEL           96    5869\n",
       "JULES             96    5028\n",
       "EMMA             186    4725\n",
       "ADAM              93    4654\n",
       "LUCAS             95    4585\n",
       "LOUIS             96    4570\n",
       "RAPHAËL           93    4383\n",
       "LOUISE           190    4174\n",
       "JADE             190    4133"
      ]
     },
     "execution_count": 54,
     "metadata": {},
     "output_type": "execute_result"
    }
   ],
   "source": [
    "mon_annee = data.query('annais==\"2016\"')\n",
    "mon_annee = mon_annee.groupby('preusuel').sum()\n",
    "mon_annee = mon_annee.sort_values(by = 'nombre', ascending = False)\n",
    "mon_annee.head(10)"
   ]
  },
  {
   "cell_type": "markdown",
   "metadata": {},
   "source": [
    "# IV - Tremblements de terre en Métropole"
   ]
  },
  {
   "cell_type": "markdown",
   "metadata": {},
   "source": [
    "## IV - 1) Analyse du DataFrame"
   ]
  },
  {
   "cell_type": "code",
   "execution_count": 55,
   "metadata": {
    "collapsed": false
   },
   "outputs": [
    {
     "data": {
      "text/html": [
       "<div>\n",
       "<table border=\"1\" class=\"dataframe\">\n",
       "  <thead>\n",
       "    <tr style=\"text-align: right;\">\n",
       "      <th></th>\n",
       "      <th>heure</th>\n",
       "      <th>latitude</th>\n",
       "      <th>longitude</th>\n",
       "      <th>magnitude</th>\n",
       "      <th>ville</th>\n",
       "      <th>type</th>\n",
       "    </tr>\n",
       "  </thead>\n",
       "  <tbody>\n",
       "    <tr>\n",
       "      <th>1309</th>\n",
       "      <td>2018-01-01T07:26:50.643000+00:00</td>\n",
       "      <td>45.451</td>\n",
       "      <td>6.255</td>\n",
       "      <td>1.7</td>\n",
       "      <td>Saint-Jean-de-Maurienne</td>\n",
       "      <td>earthquake</td>\n",
       "    </tr>\n",
       "    <tr>\n",
       "      <th>1310</th>\n",
       "      <td>2018-01-01T07:25:53.743000+00:00</td>\n",
       "      <td>-4.594</td>\n",
       "      <td>102.457</td>\n",
       "      <td>5.3</td>\n",
       "      <td>Palembang</td>\n",
       "      <td>None</td>\n",
       "    </tr>\n",
       "    <tr>\n",
       "      <th>1311</th>\n",
       "      <td>2018-01-01T02:21:15.247000+00:00</td>\n",
       "      <td>44.290</td>\n",
       "      <td>7.332</td>\n",
       "      <td>1.1</td>\n",
       "      <td>Cuneo</td>\n",
       "      <td>earthquake</td>\n",
       "    </tr>\n",
       "    <tr>\n",
       "      <th>1312</th>\n",
       "      <td>2018-01-01T02:07:24.608000+00:00</td>\n",
       "      <td>44.684</td>\n",
       "      <td>6.723</td>\n",
       "      <td>1.7</td>\n",
       "      <td>Briançon</td>\n",
       "      <td>earthquake</td>\n",
       "    </tr>\n",
       "    <tr>\n",
       "      <th>1313</th>\n",
       "      <td>2018-01-01T01:17:41.525000+00:00</td>\n",
       "      <td>45.442</td>\n",
       "      <td>6.383</td>\n",
       "      <td>2.6</td>\n",
       "      <td>Albertville</td>\n",
       "      <td>earthquake</td>\n",
       "    </tr>\n",
       "  </tbody>\n",
       "</table>\n",
       "</div>"
      ],
      "text/plain": [
       "                                 heure  latitude  longitude  magnitude  \\\n",
       "1309  2018-01-01T07:26:50.643000+00:00    45.451      6.255        1.7   \n",
       "1310  2018-01-01T07:25:53.743000+00:00    -4.594    102.457        5.3   \n",
       "1311  2018-01-01T02:21:15.247000+00:00    44.290      7.332        1.1   \n",
       "1312  2018-01-01T02:07:24.608000+00:00    44.684      6.723        1.7   \n",
       "1313  2018-01-01T01:17:41.525000+00:00    45.442      6.383        2.6   \n",
       "\n",
       "                        ville        type  \n",
       "1309  Saint-Jean-de-Maurienne  earthquake  \n",
       "1310                Palembang        None  \n",
       "1311                    Cuneo  earthquake  \n",
       "1312                 Briançon  earthquake  \n",
       "1313              Albertville  earthquake  "
      ]
     },
     "execution_count": 55,
     "metadata": {},
     "output_type": "execute_result"
    }
   ],
   "source": [
    "import matplotlib.pyplot as plt\n",
    "import pandas\n",
    "data = pandas.read_csv('SeismesMetropole2018.csv', sep=';')\n",
    "data.tail()"
   ]
  },
  {
   "cell_type": "code",
   "execution_count": 56,
   "metadata": {
    "collapsed": false
   },
   "outputs": [
    {
     "data": {
      "text/plain": [
       "heure        1314\n",
       "latitude     1314\n",
       "longitude    1314\n",
       "magnitude    1314\n",
       "ville        1314\n",
       "type         1314\n",
       "dtype: int64"
      ]
     },
     "execution_count": 56,
     "metadata": {},
     "output_type": "execute_result"
    }
   ],
   "source": [
    "data.count()"
   ]
  },
  {
   "cell_type": "code",
   "execution_count": 57,
   "metadata": {
    "collapsed": false
   },
   "outputs": [
    {
     "data": {
      "text/plain": [
       "earthquake                    836\n",
       "quarry blast                  264\n",
       "None                          202\n",
       "explosion                       9\n",
       "snow avalanche                  2\n",
       "induced or triggered event      1\n",
       "Name: type, dtype: int64"
      ]
     },
     "execution_count": 57,
     "metadata": {},
     "output_type": "execute_result"
    }
   ],
   "source": [
    "data['type'].value_counts()\n"
   ]
  },
  {
   "cell_type": "code",
   "execution_count": 58,
   "metadata": {
    "collapsed": false
   },
   "outputs": [
    {
     "data": {
      "image/png": "[encoded data removed]",
      "text/plain": [
       "<matplotlib.figure.Figure at 0x27681b9ec18>"
      ]
     },
     "metadata": {},
     "output_type": "display_data"
    }
   ],
   "source": [
    "seisme_type=data['type'].value_counts()\n",
    "seisme_type.plot.pie(autopct='%.2f')\n",
    "plt.show()"
   ]
  },
  {
   "cell_type": "code",
   "execution_count": 59,
   "metadata": {
    "collapsed": false
   },
   "outputs": [
    {
     "data": {
      "text/html": [
       "<div>\n",
       "<table border=\"1\" class=\"dataframe\">\n",
       "  <thead>\n",
       "    <tr style=\"text-align: right;\">\n",
       "      <th></th>\n",
       "      <th>heure</th>\n",
       "      <th>latitude</th>\n",
       "      <th>longitude</th>\n",
       "      <th>magnitude</th>\n",
       "      <th>ville</th>\n",
       "      <th>type</th>\n",
       "    </tr>\n",
       "  </thead>\n",
       "  <tbody>\n",
       "    <tr>\n",
       "      <th>1308</th>\n",
       "      <td>2018-01-01T07:40:57.217000+00:00</td>\n",
       "      <td>45.414</td>\n",
       "      <td>6.295</td>\n",
       "      <td>2.1</td>\n",
       "      <td>Saint-Jean-de-Maurienne</td>\n",
       "      <td>earthquake</td>\n",
       "    </tr>\n",
       "    <tr>\n",
       "      <th>1309</th>\n",
       "      <td>2018-01-01T07:26:50.643000+00:00</td>\n",
       "      <td>45.451</td>\n",
       "      <td>6.255</td>\n",
       "      <td>1.7</td>\n",
       "      <td>Saint-Jean-de-Maurienne</td>\n",
       "      <td>earthquake</td>\n",
       "    </tr>\n",
       "    <tr>\n",
       "      <th>1311</th>\n",
       "      <td>2018-01-01T02:21:15.247000+00:00</td>\n",
       "      <td>44.290</td>\n",
       "      <td>7.332</td>\n",
       "      <td>1.1</td>\n",
       "      <td>Cuneo</td>\n",
       "      <td>earthquake</td>\n",
       "    </tr>\n",
       "    <tr>\n",
       "      <th>1312</th>\n",
       "      <td>2018-01-01T02:07:24.608000+00:00</td>\n",
       "      <td>44.684</td>\n",
       "      <td>6.723</td>\n",
       "      <td>1.7</td>\n",
       "      <td>Briançon</td>\n",
       "      <td>earthquake</td>\n",
       "    </tr>\n",
       "    <tr>\n",
       "      <th>1313</th>\n",
       "      <td>2018-01-01T01:17:41.525000+00:00</td>\n",
       "      <td>45.442</td>\n",
       "      <td>6.383</td>\n",
       "      <td>2.6</td>\n",
       "      <td>Albertville</td>\n",
       "      <td>earthquake</td>\n",
       "    </tr>\n",
       "  </tbody>\n",
       "</table>\n",
       "</div>"
      ],
      "text/plain": [
       "                                 heure  latitude  longitude  magnitude  \\\n",
       "1308  2018-01-01T07:40:57.217000+00:00    45.414      6.295        2.1   \n",
       "1309  2018-01-01T07:26:50.643000+00:00    45.451      6.255        1.7   \n",
       "1311  2018-01-01T02:21:15.247000+00:00    44.290      7.332        1.1   \n",
       "1312  2018-01-01T02:07:24.608000+00:00    44.684      6.723        1.7   \n",
       "1313  2018-01-01T01:17:41.525000+00:00    45.442      6.383        2.6   \n",
       "\n",
       "                        ville        type  \n",
       "1308  Saint-Jean-de-Maurienne  earthquake  \n",
       "1309  Saint-Jean-de-Maurienne  earthquake  \n",
       "1311                    Cuneo  earthquake  \n",
       "1312                 Briançon  earthquake  \n",
       "1313              Albertville  earthquake  "
      ]
     },
     "execution_count": 59,
     "metadata": {},
     "output_type": "execute_result"
    }
   ],
   "source": [
    "tremblement = data.query('type == \"earthquake\"')\n",
    "tremblement.head()\n",
    "tremblement.tail()"
   ]
  },
  {
   "cell_type": "code",
   "execution_count": 60,
   "metadata": {
    "collapsed": false
   },
   "outputs": [
    {
     "data": {
      "text/plain": [
       "count    836.000000\n",
       "mean       1.637679\n",
       "std        0.654732\n",
       "min        0.300000\n",
       "25%        1.300000\n",
       "50%        1.500000\n",
       "75%        1.900000\n",
       "max        7.100000\n",
       "Name: magnitude, dtype: float64"
      ]
     },
     "execution_count": 60,
     "metadata": {},
     "output_type": "execute_result"
    }
   ],
   "source": [
    "tremblement['magnitude'].describe()\n"
   ]
  },
  {
   "cell_type": "code",
   "execution_count": 61,
   "metadata": {
    "collapsed": false
   },
   "outputs": [
    {
     "data": {
      "text/plain": [
       "0.21291866028708134"
      ]
     },
     "execution_count": 61,
     "metadata": {},
     "output_type": "execute_result"
    }
   ],
   "source": [
    "magnitude3 = tremblement.query('magnitude >= 2')\n",
    "len(magnitude3)/836"
   ]
  },
  {
   "cell_type": "code",
   "execution_count": 62,
   "metadata": {
    "collapsed": false
   },
   "outputs": [
    {
     "data": {
      "image/png": "[encoded data removed]",
      "text/plain": [
       "<matplotlib.figure.Figure at 0x276f17af208>"
      ]
     },
     "metadata": {},
     "output_type": "display_data"
    }
   ],
   "source": [
    "tremblement.hist(column = 'magnitude', bins = range(0,10,1), normed = True)\n",
    "plt.show()"
   ]
  },
  {
   "cell_type": "code",
   "execution_count": 63,
   "metadata": {
    "collapsed": false
   },
   "outputs": [
    {
     "data": {
      "image/png": "[encoded data removed]",
      "text/plain": [
       "<matplotlib.figure.Figure at 0x27681b274e0>"
      ]
     },
     "metadata": {},
     "output_type": "display_data"
    }
   ],
   "source": [
    "tremblement.boxplot(column = 'magnitude')\n",
    "plt.show()"
   ]
  },
  {
   "cell_type": "code",
   "execution_count": 64,
   "metadata": {
    "collapsed": false
   },
   "outputs": [
    {
     "data": {
      "text/html": [
       "<div>\n",
       "<table border=\"1\" class=\"dataframe\">\n",
       "  <thead>\n",
       "    <tr style=\"text-align: right;\">\n",
       "      <th></th>\n",
       "      <th>heure</th>\n",
       "      <th>latitude</th>\n",
       "      <th>longitude</th>\n",
       "      <th>magnitude</th>\n",
       "      <th>ville</th>\n",
       "      <th>type</th>\n",
       "    </tr>\n",
       "  </thead>\n",
       "  <tbody>\n",
       "    <tr>\n",
       "      <th>792</th>\n",
       "      <td>2018-01-23T09:31:41.967000+00:00</td>\n",
       "      <td>56.079</td>\n",
       "      <td>-149.141</td>\n",
       "      <td>7.1</td>\n",
       "      <td>Anchorage</td>\n",
       "      <td>earthquake</td>\n",
       "    </tr>\n",
       "    <tr>\n",
       "      <th>314</th>\n",
       "      <td>2018-02-06T14:27:21.254000+00:00</td>\n",
       "      <td>36.355</td>\n",
       "      <td>5.240</td>\n",
       "      <td>5.1</td>\n",
       "      <td>Bejaïa</td>\n",
       "      <td>earthquake</td>\n",
       "    </tr>\n",
       "    <tr>\n",
       "      <th>301</th>\n",
       "      <td>2018-02-06T21:53:56.788000+00:00</td>\n",
       "      <td>38.028</td>\n",
       "      <td>73.039</td>\n",
       "      <td>5.0</td>\n",
       "      <td>Fayzabad</td>\n",
       "      <td>earthquake</td>\n",
       "    </tr>\n",
       "    <tr>\n",
       "      <th>1010</th>\n",
       "      <td>2018-01-15T11:51:41.003000+00:00</td>\n",
       "      <td>38.957</td>\n",
       "      <td>-7.924</td>\n",
       "      <td>4.9</td>\n",
       "      <td>Évora</td>\n",
       "      <td>earthquake</td>\n",
       "    </tr>\n",
       "    <tr>\n",
       "      <th>122</th>\n",
       "      <td>2018-02-12T03:08:31.430000+00:00</td>\n",
       "      <td>46.630</td>\n",
       "      <td>-0.632</td>\n",
       "      <td>4.7</td>\n",
       "      <td>Bressuire</td>\n",
       "      <td>earthquake</td>\n",
       "    </tr>\n",
       "  </tbody>\n",
       "</table>\n",
       "</div>"
      ],
      "text/plain": [
       "                                 heure  latitude  longitude  magnitude  \\\n",
       "792   2018-01-23T09:31:41.967000+00:00    56.079   -149.141        7.1   \n",
       "314   2018-02-06T14:27:21.254000+00:00    36.355      5.240        5.1   \n",
       "301   2018-02-06T21:53:56.788000+00:00    38.028     73.039        5.0   \n",
       "1010  2018-01-15T11:51:41.003000+00:00    38.957     -7.924        4.9   \n",
       "122   2018-02-12T03:08:31.430000+00:00    46.630     -0.632        4.7   \n",
       "\n",
       "          ville        type  \n",
       "792   Anchorage  earthquake  \n",
       "314      Bejaïa  earthquake  \n",
       "301    Fayzabad  earthquake  \n",
       "1010      Évora  earthquake  \n",
       "122   Bressuire  earthquake  "
      ]
     },
     "execution_count": 64,
     "metadata": {},
     "output_type": "execute_result"
    }
   ],
   "source": [
    "tremblement_ordre = tremblement.sort_values(by='magnitude', ascending = False)\n",
    "tremblement_ordre.head()"
   ]
  },
  {
   "cell_type": "markdown",
   "metadata": {},
   "source": [
    "## IV - 2) Carte interactive"
   ]
  },
  {
   "cell_type": "code",
   "execution_count": 65,
   "metadata": {
    "collapsed": false
   },
   "outputs": [
    {
     "data": {
      "text/html": [
       "<div style=\"width:100%;\"><div style=\"position:relative;width:100%;height:0;padding-bottom:60%;\"><iframe src=\"data:text/html;charset=utf-8;base64,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\" style=\"position:absolute;width:100%;height:100%;left:0;top:0;border:none !important;\" allowfullscreen webkitallowfullscreen mozallowfullscreen></iframe></div></div>"
      ],
      "text/plain": [
       "<folium.folium.Map at 0x276800b5ef0>"
      ]
     },
     "execution_count": 65,
     "metadata": {},
     "output_type": "execute_result"
    }
   ],
   "source": [
    "import folium\n",
    "\n",
    "x_moy = tremblement['latitude'].mean()\n",
    "y_moy = tremblement['longitude'].mean()\n",
    "\n",
    "# creation d'une carte avec pour centre le point (x_moy,y_moy)\n",
    "carte = folium.Map(location=[x_moy,y_moy],zoom_start=6,tiles='Stamen Terrain')\n",
    "\n",
    "for k in tremblement.index.values:\n",
    "    latitude = tremblement.loc[k,'latitude']\n",
    "    longitude = tremblement.loc[k,'longitude']\n",
    "    magnitude = tremblement.loc[k,'magnitude']\n",
    "    if magnitude >= 2 and magnitude <3:\n",
    "        point = folium.Marker([latitude,longitude],popup=str(magnitude),icon=folium.Icon(color='green'))\n",
    "        carte.add_child(point)\n",
    "    if magnitude >= 3 and magnitude < 4:\n",
    "        point = folium.Marker([latitude,longitude],popup=str(magnitude),icon=folium.Icon(color='orange'))\n",
    "        carte.add_child(point)\n",
    "    if  magnitude >= 4:\n",
    "        point = folium.Marker([latitude,longitude],popup=str(magnitude),icon=folium.Icon(color='red'))\n",
    "        carte.add_child(point)\n",
    "carte"
   ]
  }
 ],
 "metadata": {
  "kernelspec": {
   "display_name": "Python 3",
   "language": "python",
   "name": "python3"
  },
  "language_info": {
   "codemirror_mode": {
    "name": "ipython",
    "version": 3
   },
   "file_extension": ".py",
   "mimetype": "text/x-python",
   "name": "python",
   "nbconvert_exporter": "python",
   "pygments_lexer": "ipython3",
   "version": "3.6.0"
  }
 },
 "nbformat": 4,
 "nbformat_minor": 2
}
